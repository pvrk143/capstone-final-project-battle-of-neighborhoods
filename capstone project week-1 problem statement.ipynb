{
 "cells": [
  {
   "cell_type": "markdown",
   "metadata": {},
   "source": [
    "# Capstone Project Battle of Neighborhoods week-1\n",
    "\n",
    "# Problem Statement: How to find the best locality to open a burger point in a given area\n",
    "\n",
    "One of family memebers wants to open a Burger point in one locality (District of Bogota, Coloumbia)\n",
    "and he wants me to do data analysis and to find the best location possible for good business.\n",
    "\n",
    "## Question-1: Which is the best place to open the burger point\n",
    "\n",
    "###In the given area let us say one particular district first we need to identify the what are all the available \n",
    "Burger points and how the business is going. For analysing this we need the data related to all the available points\n",
    "in the area in terms of geographical location, address, customer rating, popularity of the point.\n",
    "\n",
    "## Question-2: What about the customer mobility if we open the restaurant\n",
    "\n",
    "The cutomer mobility depends on the avaialability. Suppose in a particular area if there are lack of Burger points\n",
    "Then there is a possiblity of more customer mobility. We have to select area where the points are less and more scope\n",
    "of business is going to happen if we open a point.\n",
    "\n",
    "## Question-3: What about the competetion with other burger and food serving malls\n",
    "\n",
    "We also have to see the other food options available and their business. We have to choose the least competetive place where\n",
    "possibility of business is more after accounting all the food options and less competetion is for burger point and also more\n",
    "cutomer retention.\n",
    "\n",
    "## Question-4: Is the place available to nearest transportation and other shoping and cinema centres\n",
    "\n",
    "We have to see the transpotation and feasibility of reaching the point say in 5 to 10 minutes.\n",
    "So the place should be easily available for public transport and should be nearby to most of the dense public.\n",
    "\n",
    "## Question-5: How to obtain the best rate of return if we invest in this project\n",
    "\n",
    "To obtain the best rate of retention of the cutomers we have to select the point where more number of people\n",
    "are visiting the place and there should be a demand for the said item. As the burger point is already famous in this\n",
    "area so we need to focus on long term mobility of cutomer retention and more cutomers more business.\n",
    "\n",
    "\n",
    "## Question-5: Finally identifying the best location for opening the burger point\n",
    "\n",
    "In order to open burger joint, we will have the need to use some information about the Localities in Bogotá.\n",
    "We must be sure that the place where the burger joint is opened will have enough customers and also that there aren't a large ammount of burer joints in the place.\n"
   ]
  },
  {
   "cell_type": "code",
   "execution_count": null,
   "metadata": {},
   "outputs": [],
   "source": []
  }
 ],
 "metadata": {
  "kernelspec": {
   "display_name": "Python 3",
   "language": "python",
   "name": "python3"
  },
  "language_info": {
   "codemirror_mode": {
    "name": "ipython",
    "version": 3
   },
   "file_extension": ".py",
   "mimetype": "text/x-python",
   "name": "python",
   "nbconvert_exporter": "python",
   "pygments_lexer": "ipython3",
   "version": "3.6.8"
  }
 },
 "nbformat": 4,
 "nbformat_minor": 2
}
