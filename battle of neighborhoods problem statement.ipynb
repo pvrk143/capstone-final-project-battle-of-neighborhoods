{
 "cells": [
  {
   "cell_type": "markdown",
   "metadata": {},
   "source": [
    "# The Battle of Neighborhoods week 1 (Problem Statement) "
   ]
  },
  {
   "cell_type": "markdown",
   "metadata": {},
   "source": [
    "# Find Location to Build New Cinema Hall in Hyderabad\n",
    "Capstone Project - The Battle of Neighborhoods"
   ]
  },
  {
   "cell_type": "markdown",
   "metadata": {},
   "source": [
    "# Introduction\n",
    "\n",
    "### My Family member wants to open a new cinema hall in best location in Hyderabad. As per his observation watching movie is a part of afternoon and evening and night time activity. The cinema hall should be nearby surrounding with shopping places and restaurants. Transportation is also major factor and it should be feasible for major public that it should be reachable within short span of time of say 5 to 10 minutes. He wants me to concentrate on selection of cinema location according to its nearby environment. Cinema facility and rental price is not a concern. The top 10 favorite cinemas in Hyderabad are listed with their rating.\n",
    "\n",
    "### I work with my teammates and select 5 possible locations to build the cinema. Which location should be suggested to the stakeholder?\n"
   ]
  },
  {
   "cell_type": "code",
   "execution_count": null,
   "metadata": {},
   "outputs": [],
   "source": []
  }
 ],
 "metadata": {
  "kernelspec": {
   "display_name": "Python 3",
   "language": "python",
   "name": "python3"
  },
  "language_info": {
   "codemirror_mode": {
    "name": "ipython",
    "version": 3
   },
   "file_extension": ".py",
   "mimetype": "text/x-python",
   "name": "python",
   "nbconvert_exporter": "python",
   "pygments_lexer": "ipython3",
   "version": "3.6.8"
  }
 },
 "nbformat": 4,
 "nbformat_minor": 2
}
