{
 "cells": [
  {
   "cell_type": "markdown",
   "metadata": {},
   "source": [
    "# Capstone Project battle of neighborhoods Week-1 Data\n",
    "\n",
    "\n",
    "# Problem Statement: How to find the best locality to open a burger point in a given area\n",
    "\n",
    "One of family memebers wants to open a Burger point in one locality (District of Bogota, Coloumbia)\n",
    "and he wants me to do data analysis and to find the best location possible for good business.\n",
    "\n",
    "## Question-1: Which is the best place to open the burger point\n",
    "\n",
    "## Question-2: What about the customer mobility if we open the restaurant\n",
    "\n",
    "## Question-3: What about the competetion with other burger and food serving malls\n",
    "\n",
    "## Question-4: Is the place available to nearest transportation and other shoping and cinema centres\n",
    "\n",
    "## Question-5: How to obtain the best rate of return if we invest in this project\n",
    "\n",
    "## Question-6: Finally identifying the best location for opening the burger point\n",
    "\n",
    "In order to open burger joint, we will have the need to use some information about the Localities in Bogotá.\n",
    "We must be sure that the place where the burger joint is opened will have enough customers and also that there aren't a large ammount of burer joints in the place.\n",
    "\n",
    "# Data\n",
    "\n",
    "### To complete this project we will need to access following data: The Data is taken from the wikipedia source mentioned here \n",
    "\n",
    "### * The Localities of Bogotá, Colombia from Wikipedia: https://es.wikipedia.org/wiki/Anexo:Localidades_de_Bogot%C3%A1\n",
    "\n",
    "### * The coordinates (latitude, longitude) ot these Localities of Bogotá from Open Street Map APIs\n",
    "\n",
    "### * From Foursquare we will need following venues data:\n",
    "\n",
    "### * the burger joint venues of the Localities\n",
    "\n",
    "### * the offices venues of the Localities\n",
    "\n",
    "### * the high schools venues of the Localities\n",
    "\n",
    "### * the universities venues of the Localities\n",
    "\n",
    "# We will then leverage the data in order to determine which locality is the most appropriate in order to locate the burger joint. Thia will be explained in detail in final report. "
   ]
  },
  {
   "cell_type": "code",
   "execution_count": null,
   "metadata": {},
   "outputs": [],
   "source": []
  }
 ],
 "metadata": {
  "kernelspec": {
   "display_name": "Python 3",
   "language": "python",
   "name": "python3"
  },
  "language_info": {
   "codemirror_mode": {
    "name": "ipython",
    "version": 3
   },
   "file_extension": ".py",
   "mimetype": "text/x-python",
   "name": "python",
   "nbconvert_exporter": "python",
   "pygments_lexer": "ipython3",
   "version": "3.6.8"
  }
 },
 "nbformat": 4,
 "nbformat_minor": 2
}
